{
 "cells": [
  {
   "cell_type": "markdown",
   "metadata": {},
   "source": [
    "# Ejercicio 3"
   ]
  },
  {
   "cell_type": "markdown",
   "metadata": {},
   "source": [
    "De un dataset de su tarea anterior en PYTHON, realice tres algoritmos de preprocesamiento."
   ]
  },
  {
   "cell_type": "code",
   "execution_count": 51,
   "metadata": {},
   "outputs": [],
   "source": [
    "import numpy as np\n",
    "import matplotlib.pyplot as plt\n",
    "import pandas as pd"
   ]
  },
  {
   "cell_type": "markdown",
   "metadata": {},
   "source": [
    "Leyendo el archivo csv"
   ]
  },
  {
   "cell_type": "code",
   "execution_count": 52,
   "metadata": {},
   "outputs": [],
   "source": [
    "data= pd.read_csv(\"diabetes.csv\", sep=\",\", header=[0])\n",
    "array=np.asarray(data)\n",
    "names=[\"Número de embarazos\",\"Concentración de glucosa\",\"Presión arterial diastólica\",\n",
    "       \"Espesor del pliegue cutáneo del tríceps\",\"Insulina sérica\",\n",
    "       \"Índice de masa corporal\",\"Función del pedigrí de la diabetes\",\n",
    "       \"Edad\",\"Resultsdo Test\"]\n",
    "X = data.iloc[:, :].values\n",
    "Y = data.iloc[:,9]"
   ]
  },
  {
   "cell_type": "markdown",
   "metadata": {},
   "source": [
    "Algoritmo 1: Rellenamos todos los datos numericos faltantes con la media:"
   ]
  },
  {
   "cell_type": "code",
   "execution_count": 53,
   "metadata": {},
   "outputs": [
    {
     "name": "stdout",
     "output_type": "stream",
     "text": [
      "[[1.0 6.0 148.0 ... 0.627 50.0 'tested_positive']\n",
      " [2.0 1.0 85.0 ... 0.35100000000000003 31.0 'tested_negative']\n",
      " [3.0 8.0 183.0 ... 0.672 32.0 'tested_positive']\n",
      " ...\n",
      " [766.0 5.0 121.0 ... 0.245 30.0 'tested_negative']\n",
      " [767.0 1.0 126.0 ... 0.349 47.0 'tested_positive']\n",
      " [768.0 1.0 93.0 ... 0.315 23.0 'tested_negative']]\n",
      "0      tested_positive\n",
      "1      tested_negative\n",
      "2      tested_positive\n",
      "3      tested_negative\n",
      "4      tested_positive\n",
      "            ...       \n",
      "763    tested_negative\n",
      "764    tested_negative\n",
      "765    tested_negative\n",
      "766    tested_positive\n",
      "767    tested_negative\n",
      "Name: class, Length: 768, dtype: object\n"
     ]
    }
   ],
   "source": [
    "from sklearn.impute import SimpleImputer\n",
    "imputer = SimpleImputer(missing_values=np.NaN, strategy='mean')\n",
    "imputer = imputer.fit(X[:,:-1])\n",
    "X[:,:-1] = imputer.transform(X[:,:-1])\n",
    "print(X)\n",
    "print(Y)"
   ]
  },
  {
   "cell_type": "markdown",
   "metadata": {},
   "source": [
    "Algoritmo 2: Colocar los datos en una sola escala"
   ]
  },
  {
   "cell_type": "code",
   "execution_count": 54,
   "metadata": {},
   "outputs": [
    {
     "name": "stdout",
     "output_type": "stream",
     "text": [
      "[[-1.7297969994475624 0.6399472601593604 0.8483237946271883 ...\n",
      "  0.4684919773786535 1.4259954044228447 'tested_positive']\n",
      " [-1.7252864466458737 -0.8448850534430228 -1.1233963609784168 ...\n",
      "  -0.36506077757159927 -0.19067190513648613 'tested_negative']\n",
      " [-1.7207758938441853 1.2338801856003137 1.9437238810747468 ...\n",
      "  0.6043973178596731 -0.1055841520017845 'tested_positive']\n",
      " ...\n",
      " [1.7207758938441853 0.34298079743888377 0.0033008707962147404 ...\n",
      "  -0.6851933573713341 -0.27575965827118776 'tested_negative']\n",
      " [1.7252864466458737 -0.8448850534430228 0.15978659743158022 ...\n",
      "  -0.37110101492631137 1.1707321450187398 'tested_positive']\n",
      " [1.7297969994475624 -0.8448850534430228 -0.873019198361832 ...\n",
      "  -0.4737850499564149 -0.8713739302140991 'tested_negative']]\n"
     ]
    }
   ],
   "source": [
    "from sklearn import preprocessing\n",
    "Matriz_escalada=X\n",
    "Matriz_escalada[:,:-1]=preprocessing.scale(X[:,:-1])\n",
    "print(Matriz_escalada)"
   ]
  },
  {
   "cell_type": "markdown",
   "metadata": {},
   "source": [
    "Algoritmo 3: Normalizar los Datos"
   ]
  },
  {
   "cell_type": "code",
   "execution_count": 55,
   "metadata": {},
   "outputs": [
    {
     "name": "stdout",
     "output_type": "stream",
     "text": [
      "[[-0.6216992130050071 0.23000080826411767 0.30489256002963255 ...\n",
      "  0.168378771456123 0.5125111333651114 'tested_positive']\n",
      " [-0.683141102196389 -0.33453906031685804 -0.44481786183052874 ...\n",
      "  -0.1445487631597454 -0.07549808073091546 'tested_negative']\n",
      " [-0.4954163422219226 0.3552376637056525 0.5596037106843879 ...\n",
      "  0.17400773077652892 -0.03039798184554532 'tested_positive']\n",
      " ...\n",
      " [0.8308759941926869 0.1656081492543487 0.0015938242244779317 ...\n",
      "  -0.33084535531718856 -0.1331504474487109 'tested_negative']\n",
      " [0.6240568392944544 -0.30560507621433936 0.057796732333129305 ...\n",
      "  -0.1342316963563402 0.42346788471049335 'tested_positive']\n",
      " [0.6834498455115855 -0.333817528551093 -0.34493344388942543 ...\n",
      "  -0.1871944044889798 -0.3442833917377844 'tested_negative']]\n"
     ]
    }
   ],
   "source": [
    "Matriz_normalizada=X\n",
    "Matriz_normalizada[:,:-1]= preprocessing.normalize(X[:,:-1])\n",
    "print(Matriz_normalizada)"
   ]
  }
 ],
 "metadata": {
  "kernelspec": {
   "display_name": "Python 3",
   "language": "python",
   "name": "python3"
  },
  "language_info": {
   "codemirror_mode": {
    "name": "ipython",
    "version": 3
   },
   "file_extension": ".py",
   "mimetype": "text/x-python",
   "name": "python",
   "nbconvert_exporter": "python",
   "pygments_lexer": "ipython3",
   "version": "3.8.5"
  }
 },
 "nbformat": 4,
 "nbformat_minor": 4
}
