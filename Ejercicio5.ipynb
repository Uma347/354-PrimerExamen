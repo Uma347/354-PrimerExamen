{
 "cells": [
  {
   "cell_type": "markdown",
   "metadata": {},
   "source": [
    "# Ejercicio 5"
   ]
  },
  {
   "cell_type": "markdown",
   "metadata": {},
   "source": [
    "Con el uso de librerías en PYTHON, construya la dependencia de Abuelos, tios, padres, primos e hijos de su familia."
   ]
  },
  {
   "cell_type": "code",
   "execution_count": 1,
   "metadata": {},
   "outputs": [],
   "source": [
    "from kanren import run, eq, membero, var, lall\n",
    "x = var()\n",
    "from kanren import Relation, facts\n",
    "padre = Relation()\n",
    "facts(padre,(\"Rene\",\"Naira\"),(\"Rene\",\"Maya\"),(\"Ignacio\",\"Rene\"),(\"Senon\",\"Rosmery\"),(\"David\",\"Erika\"),(\"David\",\"Ximena\"))\n",
    "madre = Relation()\n",
    "facts(madre,(\"Alicia\",\"Rosmery\"),(\"Angelica\",\"Rene\"),(\"Rosmery\",\"Naira\"),(\"Rosmery\",\"Maya\"),(\"Marta\",\"Erika\"),(\"Marta\",\"Ximena\"))\n",
    "abuelo = Relation()\n",
    "facts(abuelo,(\"Ignacio\",\"Naira\"),(\"Ignacio\",\"Maya\"),(\"Ignacio\",\"Erika\"),(\"Ignacio\",\"Ximena\"),(\"Senon\",\"Naira\"),(\"Senon\",\"Maya\"))\n",
    "abuela = Relation()\n",
    "facts(abuela,(\"Alicia\",\"Naira\"),(\"Alicia\",\"Maya\"),(\"Angelica\",\"Naira\"),(\"Angelica\",\"Maya\"))\n",
    "tio= Relation()\n",
    "facts(tio,(\"David\",\"Naira\"),(\"David\",\"Maya\"),(\"Rene\",\"Erika\"),(\"Rene\",\"Ximena\"))\n",
    "tia= Relation()\n",
    "facts(tia,(\"Zenaida\",\"Naira\"),(\"Zenaida\",\"Maya\"),(\"Zenaida\",\"Erika\"),(\"Zenaida\",\"Ximena\"),(\"Rosmery\",\"Erika\"),(\"Rosmery\",\"Ximena\"),(\"Marta\",\"Naira\"),(\"Marta\",\"Maya\"))\n",
    "prima= Relation()\n",
    "facts(prima,(\"Erika\",\"Naira\"),(\"Erika\",\"Maya\"),(\"Ximena\",\"Naira\"),(\"Ximena\",\"Maya\"))\n",
    "hijo= Relation()\n",
    "facts(hijo,(\"Naira\",\"Rene\"),(\"Maya\",\"Rene\"),(\"Rene\",\"Ignacio\"),(\"Rosmery\",\"Senon\"),(\"Naira\",\"Rosmery\"),(\"Maya\",\"Rosmery\"),(\"Rene\",\"Angelica\"),(\"Rosmery\",\"Alicia\"),(\"Erika\",\"David\"),(\"Erika\",\"Marta\"))\n"
   ]
  },
  {
   "cell_type": "markdown",
   "metadata": {},
   "source": [
    "Pruebas:"
   ]
  },
  {
   "cell_type": "code",
   "execution_count": 2,
   "metadata": {},
   "outputs": [
    {
     "name": "stdout",
     "output_type": "stream",
     "text": [
      "Padre de Maya:  ('Rene',)\n",
      "Rene es padre de:  ('Naira', 'Maya')\n",
      "Madre de Naira:  ('Rosmery',)\n",
      "Alicia es madre de:  ('Rosmery',)\n",
      "Ignacio es abuelo de:  ('Ximena', 'Naira', 'Erika', 'Maya')\n",
      "Erika es hija de:  ('Marta', 'David')\n",
      "Tias de Ximena:  ('Rosmery', 'Zenaida')\n",
      "David es tio de:  ('Naira', 'Maya')\n",
      "Primas de Naira:  ('Ximena', 'Erika')\n"
     ]
    }
   ],
   "source": [
    "print(\"Padre de Maya: \",(run(1, x, padre(x,\"Maya\"))))\n",
    "print(\"Rene es padre de: \",run(2, x, padre(\"Rene\",x)))\n",
    "print(\"Madre de Naira: \",run(1, x, madre(x,\"Naira\")))\n",
    "print(\"Alicia es madre de: \",run(1, x, madre(\"Alicia\",x)))\n",
    "print(\"Ignacio es abuelo de: \",run(5, x, abuelo(\"Ignacio\",x)))\n",
    "print(\"Erika es hija de: \",run(5, x, hijo(\"Erika\",x)))\n",
    "print(\"Tias de Ximena: \",run(5, x, tia(x,\"Ximena\")))\n",
    "print(\"David es tio de: \",run(5, x, tio(\"David\",x)))\n",
    "print(\"Primas de Naira: \",run(5, x, prima(x,\"Naira\")))"
   ]
  },
  {
   "cell_type": "code",
   "execution_count": null,
   "metadata": {},
   "outputs": [],
   "source": []
  }
 ],
 "metadata": {
  "kernelspec": {
   "display_name": "Python 3",
   "language": "python",
   "name": "python3"
  },
  "language_info": {
   "codemirror_mode": {
    "name": "ipython",
    "version": 3
   },
   "file_extension": ".py",
   "mimetype": "text/x-python",
   "name": "python",
   "nbconvert_exporter": "python",
   "pygments_lexer": "ipython3",
   "version": "3.8.5"
  }
 },
 "nbformat": 4,
 "nbformat_minor": 4
}
