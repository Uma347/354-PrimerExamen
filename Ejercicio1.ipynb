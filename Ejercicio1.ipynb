{
 "cells": [
  {
   "cell_type": "markdown",
   "metadata": {},
   "source": [
    "# Ejercicio 1"
   ]
  },
  {
   "cell_type": "markdown",
   "metadata": {},
   "source": [
    "Seleccione dos dataset de los propuestos por su persona en una anterior tarea. Realice los incisos a, b y c"
   ]
  },
  {
   "cell_type": "markdown",
   "metadata": {},
   "source": [
    "Importacion de Librerias"
   ]
  },
  {
   "cell_type": "code",
   "execution_count": 445,
   "metadata": {},
   "outputs": [],
   "source": [
    "import pandas as pd\n",
    "import numpy as np\n",
    "from math import sqrt\n",
    "from statistics import mode"
   ]
  },
  {
   "cell_type": "markdown",
   "metadata": {},
   "source": [
    "Funciones:"
   ]
  },
  {
   "cell_type": "code",
   "execution_count": 446,
   "metadata": {},
   "outputs": [],
   "source": [
    "def obtmedia(array,columna,numfilas):\n",
    "    media=0.0\n",
    "    for i in range(numfilas):\n",
    "        media=media+float(array[i][columna])\n",
    "    media=media/(array.shape[0]) \n",
    "    return media\n",
    "def obtmedesv(array, media,columna,numfilas):\n",
    "    desv=0.0\n",
    "    for i in range(numfilas):\n",
    "        desv=desv+(float(array[i][columna])- media)**2\n",
    "    desv=desv/(numfilas)\n",
    "    desv=sqrt(desv)\n",
    "    return desv\n",
    "\n",
    "def obtmoda(array,columna,numfilas):\n",
    "    frequencia = {}\n",
    "    for i in range(numfilas):\n",
    "        value=array[i][columna]\n",
    "        frequencia[value]=frequencia.get(value, 0) + 1\n",
    "    mas_frecuente = max(frequencia.values())\n",
    "    moda = [key for key, value in frequencia.items()\n",
    "                      if value == mas_frecuente]\n",
    "    return moda\n",
    "def columna(array,filas,columna):\n",
    "    lista2 = np.zeros(filas)\n",
    "    for i in range(filas): \n",
    "        lista2[i]=float(array[i][columna])\n",
    "        #print(lista2[i])\n",
    "    return lista2"
   ]
  },
  {
   "cell_type": "markdown",
   "metadata": {},
   "source": [
    "# Primer Dataset"
   ]
  },
  {
   "cell_type": "markdown",
   "metadata": {},
   "source": [
    "Dataset corazon.csv, para el diagnostico de enfermedades cardiacas"
   ]
  },
  {
   "cell_type": "markdown",
   "metadata": {},
   "source": [
    "Leyendo archivo csv"
   ]
  },
  {
   "cell_type": "code",
   "execution_count": 447,
   "metadata": {},
   "outputs": [
    {
     "name": "stdout",
     "output_type": "stream",
     "text": [
      "   Age Sex ChestPainType  RestingBP  Cholesterol  FastingBS RestingECG  MaxHR  \\\n",
      "0   40   M           ATA        140          289          0     Normal    172   \n",
      "1   49   F           NAP        160          180          0     Normal    156   \n",
      "2   37   M           ATA        130          283          0         ST     98   \n",
      "3   48   F           ASY        138          214          0     Normal    108   \n",
      "4   54   M           NAP        150          195          0     Normal    122   \n",
      "\n",
      "  ExerciseAngina  Oldpeak ST_Slope  HeartDisease  \n",
      "0              N      0.0       Up             0  \n",
      "1              N      1.0     Flat             1  \n",
      "2              N      0.0       Up             0  \n",
      "3              Y      1.5     Flat             1  \n",
      "4              N      0.0       Up             0  \n"
     ]
    }
   ],
   "source": [
    "data= pd.read_csv(\"corazon.csv\", sep=\",\", header=[0])\n",
    "arrayCora=np.asarray(data)\n",
    "names=[\"Edad\",\"Sexo\",\"Tipo de Dolor de Pecho\",\"Presion Arterial Reposo\",\"Coresterol\",\n",
    "       \"Azucar en Ayunas\",\"Resultados del electrocardiograma en Reposo\",\"Frecuencia cardíaca máxima alcanzada\",\n",
    "      \"Angina inducida por Ejercicio\",\"Pico antiguo\",\"Pendiente del pico\",\"Diagnostico\"]\n",
    "\n",
    "print(data.head())"
   ]
  },
  {
   "cell_type": "markdown",
   "metadata": {},
   "source": [
    "a) La media, moda y la desviación estándar por columna; explique qué significa en cada caso mediante Python sin uso de librerías"
   ]
  },
  {
   "cell_type": "code",
   "execution_count": 448,
   "metadata": {},
   "outputs": [
    {
     "name": "stdout",
     "output_type": "stream",
     "text": [
      "\n",
      "Edad\n",
      "------------------------------------------------\n",
      "Media    : 53.510893246187365\n",
      "Moda     : [54]\n",
      "Desviacion : 9.427477516153491\n",
      "\n",
      "Sexo\n",
      "------------------------------------------------\n",
      "Moda     : ['M']\n",
      "\n",
      "Tipo de Dolor de Pecho\n",
      "------------------------------------------------\n",
      "Moda     : ['ASY']\n",
      "\n",
      "Presion Arterial Reposo\n",
      "------------------------------------------------\n",
      "Media    : 132.39651416122004\n",
      "Moda     : [120]\n",
      "Desviacion : 18.504067410295104\n",
      "\n",
      "Coresterol\n",
      "------------------------------------------------\n",
      "Media    : 198.7995642701525\n",
      "Moda     : [0]\n",
      "Desviacion : 109.32455089779246\n",
      "\n",
      "Azucar en Ayunas\n",
      "------------------------------------------------\n",
      "Moda     : [0]\n",
      "\n",
      "Resultados del electrocardiograma en Reposo\n",
      "------------------------------------------------\n",
      "Moda     : ['Normal']\n",
      "\n",
      "Frecuencia cardíaca máxima alcanzada\n",
      "------------------------------------------------\n",
      "Media    : 136.80936819172112\n",
      "Moda     : [150]\n",
      "Desviacion : 25.44646307530938\n",
      "\n",
      "Angina inducida por Ejercicio\n",
      "------------------------------------------------\n",
      "Moda     : ['N']\n",
      "\n",
      "Pico antiguo\n",
      "------------------------------------------------\n",
      "Media    : 0.8873638344226581\n",
      "Moda     : [0.0]\n",
      "Desviacion : 1.0659890721987564\n",
      "\n",
      "Pendiente del pico\n",
      "------------------------------------------------\n",
      "Moda     : ['Flat']\n",
      "\n",
      "Diagnostico\n",
      "------------------------------------------------\n",
      "Moda     : [1]\n",
      "\n"
     ]
    }
   ],
   "source": [
    "numcolumnas=int(arrayCora.shape[1])\n",
    "numfilas=int(arrayCora.shape[0])\n",
    "print()\n",
    "#Imprimiendo\n",
    "for i in range(12):\n",
    "    print (names[i])\n",
    "    print (\"------------------------------------------------\")\n",
    "    if (i==0)|(i==3)|(i==4)|(i==7)|(i==9):\n",
    "        media_p=obtmedia(arrayCora,i,numfilas)\n",
    "        print (\"Media    :\",media_p)\n",
    "        moda_p=obtmoda(arrayCora,i,numfilas)\n",
    "        if(moda_p.__len__()>=int(numfilas)/2):\n",
    "            print(\"No existe Moda\")\n",
    "        else:\n",
    "            if( moda_p.__len__()>1 ):\n",
    "                print(\"Es multimodal: \")\n",
    "            print (\"Moda     :\",moda_p)\n",
    "        print (\"Desviacion :\",obtmedesv(arrayCora, media_p,i,numfilas))\n",
    "        print(\"\")\n",
    "    else:\n",
    "        moda_p=obtmoda(arrayCora,i,numfilas)\n",
    "        if(moda_p.__len__()>=int(numfilas)/2):\n",
    "            print(\"No existe Moda\")\n",
    "        else:\n",
    "            if( moda_p.__len__()>1 ):\n",
    "                print(\"Es multimodal: \")\n",
    "            print (\"Moda     :\",moda_p)\n",
    "        print(\"\")"
   ]
  },
  {
   "cell_type": "raw",
   "metadata": {},
   "source": [
    "Explicacion:\n",
    "La Media es el valor promedio de un conjunto de datos.\n",
    "La Moda es el valor que mas se repite en un conjunto de datos,aunque puede existir mas de un valor como moda, es decir un conjunto de datos puede ser multimodal.\n",
    "La desviacion estandar es una medida que ofrece información sobre la dispersión media de una variable,indica que tan lejos se encuentran los datos con respecto a la media,mientras mas grande sea, mayor es la dispersión.\n",
    "\n",
    "- Para las variables numéricas se obtiene la media, moda y desviación estandar\n",
    "Edad                                 :  Media : 53 años                 Moda: 54 años      Desviación : 9.43 años\n",
    "Presion Arterial Reposo              :  Media : 132.39 mmHg             Moda: 120 mmHg     Desviacion : 18.50 mmHg\n",
    "Coresterol                           :  Media : 198.80 mg/dl            Moda: 0 mg/dl      Desviacion : 109.32 mm/dl\n",
    "Frecuencia cardíaca máxima alcanzada :  Media : 136.81 lat/min          Moda: 150 lat/min  Desviacion : 25.45  lat/min\n",
    "Pico antiguo                         :  Media : 0.89                    Moda: 0.0          Desviacion : 1.07\n",
    "\n",
    "- Para las variables que tienen almacenadas variables que corresponden a categorias se obtiene la moda, que es el valor mas repetido.\n",
    "Sexo                                        :  Moda       : M    (Masculino)\n",
    "Tipo de Dolor de Pecho                      :  Moda       : ASY  (Asintomático)\n",
    "Azucar en Ayunas                            :  Moda       : 0    (<=120 mg / dl)\n",
    "Resultados del electrocardiograma en Reposo :  Moda       : Normal\n",
    "Angina inducida por Eercicio                :  Moda       : N    (No)\n",
    "Pendiente del pico                          :  Moda       : Flat (Plano)\n",
    "Diagnostico                                 :  Moda       : 1    (Tiene enfermedad cardiaca)\n",
    "\n"
   ]
  },
  {
   "cell_type": "markdown",
   "metadata": {},
   "source": [
    "b) La media, la moda, la desviación estándar con el uso de numpy y pandas"
   ]
  },
  {
   "cell_type": "code",
   "execution_count": 449,
   "metadata": {},
   "outputs": [
    {
     "name": "stdout",
     "output_type": "stream",
     "text": [
      "Edad\n",
      "------------------------------------------------\n",
      "Media       : 53.510893246187365\n",
      "Moda        : 54.0\n",
      "Desviacion : 9.427477516153495\n",
      "\n",
      "Sexo\n",
      "------------------------------------------------\n",
      "\n",
      "Moda        : ['M']\n",
      "\n",
      "Tipo de Dolor de Pecho\n",
      "------------------------------------------------\n",
      "\n",
      "Moda        : ['ASY']\n",
      "\n",
      "Presion Arterial Reposo\n",
      "------------------------------------------------\n",
      "Media       : 132.39651416122004\n",
      "Moda        : 120.0\n",
      "Desviacion : 18.504067410295093\n",
      "\n",
      "Coresterol\n",
      "------------------------------------------------\n",
      "Media       : 198.7995642701525\n",
      "Moda        : 0.0\n",
      "Desviacion : 109.32455089779256\n",
      "\n",
      "Azucar en Ayunas\n",
      "------------------------------------------------\n",
      "\n",
      "Moda        : [0]\n",
      "\n",
      "Resultados del electrocardiograma en Reposo\n",
      "------------------------------------------------\n",
      "\n",
      "Moda        : ['Normal']\n",
      "\n",
      "Frecuencia cardíaca máxima alcanzada\n",
      "------------------------------------------------\n",
      "Media       : 136.80936819172112\n",
      "Moda        : 150.0\n",
      "Desviacion : 25.44646307530939\n",
      "\n",
      "Angina inducida por Ejercicio\n",
      "------------------------------------------------\n",
      "\n",
      "Moda        : ['N']\n",
      "\n",
      "Pico antiguo\n",
      "------------------------------------------------\n",
      "Media       : 0.8873638344226579\n",
      "Moda        : 0.0\n",
      "Desviacion : 1.065989072198759\n",
      "\n",
      "Pendiente del pico\n",
      "------------------------------------------------\n",
      "\n",
      "Moda        : ['Flat']\n",
      "\n",
      "Diagnostico\n",
      "------------------------------------------------\n",
      "\n",
      "Moda        : [1]\n",
      "\n"
     ]
    }
   ],
   "source": [
    "for i in range(12):\n",
    "    print (names[i])\n",
    "    print (\"------------------------------------------------\")\n",
    "    if (i==0)|(i==3)|(i==4)|(i==7)|(i==9):\n",
    "        columna_l=columna(arrayCora,numfilas,i)\n",
    "        print(\"Media       :\",np.mean(columna_l))\n",
    "        print(\"Moda        :\",mode(columna_l))  \n",
    "        print(\"Desviacion :\",columna_l.std())\n",
    "        print()\n",
    "    else:\n",
    "        print(\"\")\n",
    "        moda_p=obtmoda(arrayCora,i,numfilas)\n",
    "        if(moda_p.__len__()>=int(arrayCora.shape[0])/2):\n",
    "            print(\"No existe Moda\")\n",
    "        else:\n",
    "            if( moda_p.__len__()>1 ):\n",
    "                print(\"Es multimodal: \")\n",
    "            print (\"Moda        :\",moda_p)\n",
    "        print()\n"
   ]
  },
  {
   "cell_type": "markdown",
   "metadata": {},
   "source": [
    "c) Grafique los datos y explique su comportamiento (PYTHON)"
   ]
  },
  {
   "cell_type": "code",
   "execution_count": 450,
   "metadata": {},
   "outputs": [],
   "source": [
    "import pandas as pd\n",
    "import numpy as np\n",
    "import matplotlib.pyplot as plt"
   ]
  },
  {
   "cell_type": "markdown",
   "metadata": {},
   "source": [
    "Graficando:"
   ]
  },
  {
   "cell_type": "code",
   "execution_count": 451,
   "metadata": {},
   "outputs": [
    {
     "name": "stderr",
     "output_type": "stream",
     "text": [
      "<ipython-input-451-7715ed71df2e>:5: MatplotlibDeprecationWarning: Adding an axes using the same arguments as a previous axes currently reuses the earlier instance.  In a future version, a new instance will always be created and returned.  Meanwhile, this warning can be suppressed, and the future behavior ensured, by passing a unique label to each axes instance.\n",
      "  ax=plt.subplot()\n"
     ]
    },
    {
     "data": {
      "text/plain": [
       "<function matplotlib.pyplot.show(close=None, block=None)>"
      ]
     },
     "execution_count": 451,
     "metadata": {},
     "output_type": "execute_result"
    },
    {
     "data": {
      "image/png": "[encoded data removed]",
      "text/plain": [
       "<Figure size 432x288 with 1 Axes>"
      ]
     },
     "metadata": {
      "needs_background": "light"
     },
     "output_type": "display_data"
    }
   ],
   "source": [
    "valores_x=data[\"Age\"].unique()\n",
    "valores_y=data[\"Age\"].value_counts().tolist()\n",
    "plt.bar(valores_x,valores_y)\n",
    "plt.title(names[0])\n",
    "ax=plt.subplot()\n",
    "ax.set_xlabel(\"Años\")\n",
    "ax.set_ylabel(\"Nro Pacientes\")\n",
    "plt.show"
   ]
  },
  {
   "cell_type": "raw",
   "metadata": {},
   "source": [
    "El gráfico muestra las edades de los pacientes en años\n",
    "Se puede observar que la edad de los pacientes se encuentra entre 25 y 80 años aproximadamente\n",
    "con una mayor concentración entre los 35 y 60"
   ]
  },
  {
   "cell_type": "code",
   "execution_count": 452,
   "metadata": {},
   "outputs": [
    {
     "name": "stderr",
     "output_type": "stream",
     "text": [
      "<ipython-input-452-078c8f0af8c4>:6: MatplotlibDeprecationWarning: Adding an axes using the same arguments as a previous axes currently reuses the earlier instance.  In a future version, a new instance will always be created and returned.  Meanwhile, this warning can be suppressed, and the future behavior ensured, by passing a unique label to each axes instance.\n",
      "  ax=plt.subplot()\n"
     ]
    },
    {
     "data": {
      "text/plain": [
       "<function matplotlib.pyplot.show(close=None, block=None)>"
      ]
     },
     "execution_count": 452,
     "metadata": {},
     "output_type": "execute_result"
    },
    {
     "data": {
      "image/png": "[encoded data removed]",
      "text/plain": [
       "<Figure size 432x288 with 1 Axes>"
      ]
     },
     "metadata": {
      "needs_background": "light"
     },
     "output_type": "display_data"
    }
   ],
   "source": [
    "plt.close(\"all\")\n",
    "valores_x=data[\"Sex\"].unique()\n",
    "valores_y=data[\"Sex\"].value_counts().tolist()\n",
    "plt.bar(valores_x,valores_y)\n",
    "plt.title(names[1])\n",
    "ax=plt.subplot()\n",
    "ax.set_xlabel(\"Masculino/Femenino\")\n",
    "ax.set_ylabel(\"Nro Pacientes\")\n",
    "plt.show"
   ]
  },
  {
   "cell_type": "raw",
   "metadata": {},
   "source": [
    "El gráfico muestra el sexo del paciente\n",
    " M: Masculino\n",
    " F: Femenino\n",
    "Se puede observar que la mayoria de los pacientes son masculinos"
   ]
  },
  {
   "cell_type": "code",
   "execution_count": 453,
   "metadata": {},
   "outputs": [
    {
     "name": "stderr",
     "output_type": "stream",
     "text": [
      "<ipython-input-453-e2cb19269cbe>:6: MatplotlibDeprecationWarning: Adding an axes using the same arguments as a previous axes currently reuses the earlier instance.  In a future version, a new instance will always be created and returned.  Meanwhile, this warning can be suppressed, and the future behavior ensured, by passing a unique label to each axes instance.\n",
      "  ax=plt.subplot()\n"
     ]
    },
    {
     "data": {
      "text/plain": [
       "<function matplotlib.pyplot.show(close=None, block=None)>"
      ]
     },
     "execution_count": 453,
     "metadata": {},
     "output_type": "execute_result"
    },
    {
     "data": {
      "image/png": "[encoded data removed]",
      "text/plain": [
       "<Figure size 432x288 with 1 Axes>"
      ]
     },
     "metadata": {
      "needs_background": "light"
     },
     "output_type": "display_data"
    }
   ],
   "source": [
    "plt.close(\"all\")\n",
    "valores_x=data[\"ChestPainType\"].unique()\n",
    "valores_y=data[\"ChestPainType\"].value_counts().tolist()\n",
    "plt.bar(valores_x,valores_y)\n",
    "plt.title(names[2])\n",
    "ax=plt.subplot()\n",
    "ax.set_xlabel(\"Tipos\")\n",
    "ax.set_ylabel(\"Nro Pacientes\")\n",
    "plt.show"
   ]
  },
  {
   "cell_type": "raw",
   "metadata": {},
   "source": [
    "El gráfico muestra el tipo de dolor de pecho del paciente\n",
    "TA : angina típica\n",
    "ATA: angina atípica\n",
    "NAP: dolor no anginal\n",
    "ASY: asintomático\n",
    "Se puede observar que la mayoria de los pacientes tienen una angina atipica"
   ]
  },
  {
   "cell_type": "code",
   "execution_count": 454,
   "metadata": {},
   "outputs": [
    {
     "name": "stderr",
     "output_type": "stream",
     "text": [
      "<ipython-input-454-b806cfc4e728>:6: MatplotlibDeprecationWarning: Adding an axes using the same arguments as a previous axes currently reuses the earlier instance.  In a future version, a new instance will always be created and returned.  Meanwhile, this warning can be suppressed, and the future behavior ensured, by passing a unique label to each axes instance.\n",
      "  ax=plt.subplot()\n"
     ]
    },
    {
     "data": {
      "text/plain": [
       "<function matplotlib.pyplot.show(close=None, block=None)>"
      ]
     },
     "execution_count": 454,
     "metadata": {},
     "output_type": "execute_result"
    },
    {
     "data": {
      "image/png": "[encoded data removed]",
      "text/plain": [
       "<Figure size 432x288 with 1 Axes>"
      ]
     },
     "metadata": {
      "needs_background": "light"
     },
     "output_type": "display_data"
    }
   ],
   "source": [
    "plt.close(\"all\")\n",
    "valores_x=data[\"RestingBP\"].unique()\n",
    "valores_y=data[\"RestingBP\"].value_counts().tolist()\n",
    "plt.bar(valores_x,valores_y)\n",
    "plt.title(names[3])\n",
    "ax=plt.subplot()\n",
    "ax.set_xlabel(\"[mm Hg]\")\n",
    "ax.set_ylabel(\"Nro Pacientes\")\n",
    "plt.show"
   ]
  },
  {
   "cell_type": "raw",
   "metadata": {},
   "source": [
    "El gráfico muestra la presión arterial en reposo del paciente medido en milimetros de Mercurio[mmHg]\n",
    "Se puede observar que la mayoria de los datos se necuentram concentrados entre los 100 y 150 [mmHg]"
   ]
  },
  {
   "cell_type": "code",
   "execution_count": 455,
   "metadata": {},
   "outputs": [
    {
     "name": "stderr",
     "output_type": "stream",
     "text": [
      "<ipython-input-455-a1de3469461b>:6: MatplotlibDeprecationWarning: Adding an axes using the same arguments as a previous axes currently reuses the earlier instance.  In a future version, a new instance will always be created and returned.  Meanwhile, this warning can be suppressed, and the future behavior ensured, by passing a unique label to each axes instance.\n",
      "  ax=plt.subplot()\n"
     ]
    },
    {
     "data": {
      "text/plain": [
       "<function matplotlib.pyplot.show(close=None, block=None)>"
      ]
     },
     "execution_count": 455,
     "metadata": {},
     "output_type": "execute_result"
    },
    {
     "data": {
      "image/png": "[encoded data removed]",
      "text/plain": [
       "<Figure size 432x288 with 1 Axes>"
      ]
     },
     "metadata": {
      "needs_background": "light"
     },
     "output_type": "display_data"
    }
   ],
   "source": [
    "plt.close(\"all\")\n",
    "valores_x=data[\"Cholesterol\"].unique()\n",
    "valores_y=data[\"Cholesterol\"].value_counts().tolist()\n",
    "plt.bar(valores_x,valores_y)\n",
    "plt.title(names[4])\n",
    "ax=plt.subplot()\n",
    "ax.set_xlabel(\"Alto o mormal\")\n",
    "ax.set_ylabel(\"Nro Pacientes\")\n",
    "plt.show"
   ]
  },
  {
   "cell_type": "raw",
   "metadata": {},
   "source": [
    "El gráfico muestra colesterol del paciente medido en miligramos por decilitro [mg/dl]\n",
    "Se puede observar que los datos se encuentra entre  150 y 300 con una mayoria mas o menos por los 290 mm/dl"
   ]
  },
  {
   "cell_type": "code",
   "execution_count": 456,
   "metadata": {},
   "outputs": [
    {
     "name": "stderr",
     "output_type": "stream",
     "text": [
      "<ipython-input-456-3891f77025fa>:6: MatplotlibDeprecationWarning: Adding an axes using the same arguments as a previous axes currently reuses the earlier instance.  In a future version, a new instance will always be created and returned.  Meanwhile, this warning can be suppressed, and the future behavior ensured, by passing a unique label to each axes instance.\n",
      "  ax=plt.subplot()\n"
     ]
    },
    {
     "data": {
      "text/plain": [
       "<function matplotlib.pyplot.show(close=None, block=None)>"
      ]
     },
     "execution_count": 456,
     "metadata": {},
     "output_type": "execute_result"
    },
    {
     "data": {
      "image/png": "[encoded data removed]",
      "text/plain": [
       "<Figure size 432x288 with 1 Axes>"
      ]
     },
     "metadata": {
      "needs_background": "light"
     },
     "output_type": "display_data"
    }
   ],
   "source": [
    "plt.close(\"all\")\n",
    "valores_x=data[\"FastingBS\"].unique()\n",
    "valores_y=data[\"FastingBS\"].value_counts().tolist()\n",
    "plt.bar(valores_x,valores_y)\n",
    "plt.title(names[5])\n",
    "ax=plt.subplot()\n",
    "ax.set_xlabel(\"Alto o mormal\")\n",
    "ax.set_ylabel(\"Nro Pacientes\")\n",
    "ax.set_xticks(valores_x)\n",
    "ax.set_xticklabels(valores_x)\n",
    "plt.show"
   ]
  },
  {
   "cell_type": "raw",
   "metadata": {},
   "source": [
    "El gráfico muestra azucar en la sangre del paciente en ayunas\n",
    "1: si BS en ayunas > 120 mg/dl\n",
    "0: en caso contrario\n",
    "Se puede observar que la mayoria de los pacientes tienen en nivel de glucosa en la snagre <= a 120 mg/dl"
   ]
  },
  {
   "cell_type": "code",
   "execution_count": 457,
   "metadata": {},
   "outputs": [
    {
     "name": "stderr",
     "output_type": "stream",
     "text": [
      "<ipython-input-457-ac18ed1f1a22>:6: MatplotlibDeprecationWarning: Adding an axes using the same arguments as a previous axes currently reuses the earlier instance.  In a future version, a new instance will always be created and returned.  Meanwhile, this warning can be suppressed, and the future behavior ensured, by passing a unique label to each axes instance.\n",
      "  ax=plt.subplot()\n"
     ]
    },
    {
     "data": {
      "text/plain": [
       "<function matplotlib.pyplot.show(close=None, block=None)>"
      ]
     },
     "execution_count": 457,
     "metadata": {},
     "output_type": "execute_result"
    },
    {
     "data": {
      "image/png": "[encoded data removed]",
      "text/plain": [
       "<Figure size 432x288 with 1 Axes>"
      ]
     },
     "metadata": {
      "needs_background": "light"
     },
     "output_type": "display_data"
    }
   ],
   "source": [
    "plt.close(\"all\")\n",
    "valores_x=data[\"RestingECG\"].unique()\n",
    "valores_y=data[\"RestingECG\"].value_counts().tolist()\n",
    "plt.bar(valores_x,valores_y)\n",
    "plt.title(names[6])\n",
    "ax=plt.subplot()\n",
    "ax.set_xlabel(\"Tipos de Resultado\")\n",
    "ax.set_ylabel(\"Nro Pacientes\")\n",
    "plt.show"
   ]
  },
  {
   "cell_type": "raw",
   "metadata": {},
   "source": [
    "El gráfico muestra los resultados del electrocardiagrama en reposo del paciente\n",
    "Normal: Normal\n",
    "ST    : Con anomalía de la onda ST-T (inversiones de la onda T y / o elevación o depresión del ST > 0,05 mV)\n",
    "LVH   : Que muestra una hipertrofia ventricular izquierda probable o definitiva según los criterios de Estes\n",
    "Se puede observar que la mayoria de pacientes tienen un resultado de electrocardiograma normal "
   ]
  },
  {
   "cell_type": "code",
   "execution_count": 458,
   "metadata": {},
   "outputs": [
    {
     "name": "stderr",
     "output_type": "stream",
     "text": [
      "<ipython-input-458-565eb0869579>:6: MatplotlibDeprecationWarning: Adding an axes using the same arguments as a previous axes currently reuses the earlier instance.  In a future version, a new instance will always be created and returned.  Meanwhile, this warning can be suppressed, and the future behavior ensured, by passing a unique label to each axes instance.\n",
      "  ax=plt.subplot()\n"
     ]
    },
    {
     "data": {
      "text/plain": [
       "<function matplotlib.pyplot.show(close=None, block=None)>"
      ]
     },
     "execution_count": 458,
     "metadata": {},
     "output_type": "execute_result"
    },
    {
     "data": {
      "image/png": "[encoded data removed]",
      "text/plain": [
       "<Figure size 432x288 with 1 Axes>"
      ]
     },
     "metadata": {
      "needs_background": "light"
     },
     "output_type": "display_data"
    }
   ],
   "source": [
    "plt.close(\"all\")\n",
    "valores_x=data[\"MaxHR\"].unique()\n",
    "valores_y=data[\"MaxHR\"].value_counts().tolist()\n",
    "plt.bar(valores_x,valores_y)\n",
    "plt.title(names[7])\n",
    "ax=plt.subplot()\n",
    "ax.set_xlabel(\"Latidos por minuto\")\n",
    "ax.set_ylabel(\"Nro Pacientes\")\n",
    "plt.show"
   ]
  },
  {
   "cell_type": "raw",
   "metadata": {},
   "source": [
    "El gráfico muestra los resultados de la frecuencia cardiaca maxima alcanzada del paciente \n",
    "medida el latidos por minuto.\n",
    "Se puede observar que la mayor cantidad de datos se encuentran entre 60 y 200 con una\n",
    "mayoria entre 100 y 180 latidos por minuto."
   ]
  },
  {
   "cell_type": "code",
   "execution_count": 459,
   "metadata": {},
   "outputs": [
    {
     "name": "stderr",
     "output_type": "stream",
     "text": [
      "<ipython-input-459-4d0edddea3f9>:6: MatplotlibDeprecationWarning: Adding an axes using the same arguments as a previous axes currently reuses the earlier instance.  In a future version, a new instance will always be created and returned.  Meanwhile, this warning can be suppressed, and the future behavior ensured, by passing a unique label to each axes instance.\n",
      "  ax=plt.subplot()\n"
     ]
    },
    {
     "data": {
      "text/plain": [
       "<function matplotlib.pyplot.show(close=None, block=None)>"
      ]
     },
     "execution_count": 459,
     "metadata": {},
     "output_type": "execute_result"
    },
    {
     "data": {
      "image/png": "[encoded data removed]",
      "text/plain": [
       "<Figure size 432x288 with 1 Axes>"
      ]
     },
     "metadata": {
      "needs_background": "light"
     },
     "output_type": "display_data"
    }
   ],
   "source": [
    "plt.close(\"all\")\n",
    "valores_x=data[\"ExerciseAngina\"].unique()\n",
    "valores_y=data[\"ExerciseAngina\"].value_counts().tolist()\n",
    "plt.bar(valores_x,valores_y)\n",
    "plt.title(names[8])\n",
    "ax=plt.subplot()\n",
    "ax.set_xlabel(\"No / Si\")\n",
    "ax.set_ylabel(\"Nro Pacientes\")\n",
    "plt.show"
   ]
  },
  {
   "cell_type": "raw",
   "metadata": {},
   "source": [
    "El gráfico muestra los resultados de la angina inducida por ejercicio\n",
    "N: No\n",
    "Y: Si\n",
    "Se observa que la mayoria de pacientes no tienen angina inducida por ejercicio"
   ]
  },
  {
   "cell_type": "code",
   "execution_count": 460,
   "metadata": {},
   "outputs": [
    {
     "name": "stderr",
     "output_type": "stream",
     "text": [
      "<ipython-input-460-aa092c261c97>:6: MatplotlibDeprecationWarning: Adding an axes using the same arguments as a previous axes currently reuses the earlier instance.  In a future version, a new instance will always be created and returned.  Meanwhile, this warning can be suppressed, and the future behavior ensured, by passing a unique label to each axes instance.\n",
      "  ax=plt.subplot()\n"
     ]
    },
    {
     "data": {
      "text/plain": [
       "<function matplotlib.pyplot.show(close=None, block=None)>"
      ]
     },
     "execution_count": 460,
     "metadata": {},
     "output_type": "execute_result"
    },
    {
     "data": {
      "image/png": "[encoded data removed]",
      "text/plain": [
       "<Figure size 432x288 with 1 Axes>"
      ]
     },
     "metadata": {
      "needs_background": "light"
     },
     "output_type": "display_data"
    }
   ],
   "source": [
    "plt.close(\"all\")\n",
    "valores_x=data[\"Oldpeak\"].unique()\n",
    "valores_y=data[\"Oldpeak\"].value_counts().tolist()\n",
    "plt.bar(valores_x,valores_y)\n",
    "plt.title(names[9])\n",
    "ax=plt.subplot()\n",
    "ax.set_xlabel(\"Depresion\")\n",
    "ax.set_ylabel(\"Nro Pacientes\")\n",
    "plt.show"
   ]
  },
  {
   "cell_type": "raw",
   "metadata": {},
   "source": [
    "El gráfico muestra los resultados del pico antiguo del paciente que es un valor numérico medido en depresión\n",
    "Se puede observar que los datso se encuentran concentrados entre el -3 y 7 con un valor mas elevado en 0"
   ]
  },
  {
   "cell_type": "code",
   "execution_count": 461,
   "metadata": {},
   "outputs": [
    {
     "name": "stderr",
     "output_type": "stream",
     "text": [
      "<ipython-input-461-792e05202498>:6: MatplotlibDeprecationWarning: Adding an axes using the same arguments as a previous axes currently reuses the earlier instance.  In a future version, a new instance will always be created and returned.  Meanwhile, this warning can be suppressed, and the future behavior ensured, by passing a unique label to each axes instance.\n",
      "  ax=plt.subplot()\n"
     ]
    },
    {
     "data": {
      "text/plain": [
       "<function matplotlib.pyplot.show(close=None, block=None)>"
      ]
     },
     "execution_count": 461,
     "metadata": {},
     "output_type": "execute_result"
    },
    {
     "data": {
      "image/png": "[encoded data removed]",
      "text/plain": [
       "<Figure size 432x288 with 1 Axes>"
      ]
     },
     "metadata": {
      "needs_background": "light"
     },
     "output_type": "display_data"
    }
   ],
   "source": [
    "plt.close(\"all\")\n",
    "valores_x=data[\"ST_Slope\"].unique()\n",
    "valores_y=data[\"ST_Slope\"].value_counts().tolist()\n",
    "plt.bar(valores_x,valores_y)\n",
    "plt.title(names[10])\n",
    "ax=plt.subplot()\n",
    "ax.set_xlabel(\"Tipo de Pendiente\")\n",
    "ax.set_ylabel(\"Nro Pacientes\")\n",
    "plt.show"
   ]
  },
  {
   "cell_type": "raw",
   "metadata": {},
   "source": [
    "El gráfico muestra los resultados del de la pendiente del pico\n",
    "Up  : Ascendente\n",
    "Flat: Plano\n",
    "Down: Descendente\n",
    "Se puede observar que la mayor cantidad de pacientes tienen una pendiente de pico ascendente"
   ]
  },
  {
   "cell_type": "code",
   "execution_count": 462,
   "metadata": {},
   "outputs": [
    {
     "name": "stderr",
     "output_type": "stream",
     "text": [
      "<ipython-input-462-dec180201d15>:6: MatplotlibDeprecationWarning: Adding an axes using the same arguments as a previous axes currently reuses the earlier instance.  In a future version, a new instance will always be created and returned.  Meanwhile, this warning can be suppressed, and the future behavior ensured, by passing a unique label to each axes instance.\n",
      "  ax=plt.subplot()\n",
      "<ipython-input-462-dec180201d15>:9: UserWarning: FixedFormatter should only be used together with FixedLocator\n",
      "  ax.set_xticklabels(valores_x)\n"
     ]
    },
    {
     "data": {
      "text/plain": [
       "<function matplotlib.pyplot.show(close=None, block=None)>"
      ]
     },
     "execution_count": 462,
     "metadata": {},
     "output_type": "execute_result"
    },
    {
     "data": {
      "image/png": "[encoded data removed]",
      "text/plain": [
       "<Figure size 432x288 with 1 Axes>"
      ]
     },
     "metadata": {
      "needs_background": "light"
     },
     "output_type": "display_data"
    }
   ],
   "source": [
    "plt.close(\"all\")\n",
    "valores_x=data[\"HeartDisease\"].unique()\n",
    "valores_y=data[\"HeartDisease\"].value_counts().tolist()\n",
    "plt.bar(valores_x,valores_y)\n",
    "plt.title(names[11])\n",
    "ax=plt.subplot()\n",
    "ax.set_xlabel(\"Enfermo / Normal\")\n",
    "ax.set_ylabel(\"Nro Pacientes\")\n",
    "ax.set_xticklabels(valores_x)\n",
    "plt.show"
   ]
  },
  {
   "cell_type": "raw",
   "metadata": {},
   "source": [
    "El gráfico muestra los resultados del diagnostico de enfermedad cardíaca: \n",
    "1: Enfermedad cardíaca\n",
    "0: Normal\n",
    "Semuestra en el grafico que existe una moyor cantidad de pacientes con enfermedad cardiaca"
   ]
  },
  {
   "cell_type": "markdown",
   "metadata": {},
   "source": [
    "# Segundo Dataset"
   ]
  },
  {
   "cell_type": "markdown",
   "metadata": {},
   "source": [
    "Dataset diabetes.csv, para el diagnostico de la enfermedad diabetes"
   ]
  },
  {
   "cell_type": "markdown",
   "metadata": {},
   "source": [
    "Leyendo archivo:"
   ]
  },
  {
   "cell_type": "code",
   "execution_count": 463,
   "metadata": {},
   "outputs": [
    {
     "name": "stdout",
     "output_type": "stream",
     "text": [
      "   id  preg  plas  pres  skin  insu  mass   pedi  age            class\n",
      "0   1     6   148    72    35     0  33.6  0.627   50  tested_positive\n",
      "1   2     1    85    66    29     0  26.6  0.351   31  tested_negative\n",
      "2   3     8   183    64     0     0  23.3  0.672   32  tested_positive\n",
      "3   4     1    89    66    23    94  28.1  0.167   21  tested_negative\n",
      "4   5     0   137    40    35   168  43.1  2.288   33  tested_positive\n"
     ]
    }
   ],
   "source": [
    "data= pd.read_csv(\"diabetes.csv\", sep=\",\", header=[0])\n",
    "arrayDiab=np.asarray(data)\n",
    "names=[\"Número de embarazos\",\"Concentración de glucosa\",\"Presión arterial diastólica\",\n",
    "       \"Espesor del pliegue cutáneo del tríceps\",\"Insulina sérica\",\n",
    "       \"Índice de masa corporal\",\"Función del pedigrí de la diabetes\",\n",
    "       \"Edad\",\"Resultsdo Test\"]\n",
    "print(data.head())"
   ]
  },
  {
   "cell_type": "markdown",
   "metadata": {},
   "source": [
    "a) La media, moda y la desviación estándar por columna; explique qué significa en cada caso mediante Python sin uso de librerías"
   ]
  },
  {
   "cell_type": "code",
   "execution_count": 464,
   "metadata": {},
   "outputs": [
    {
     "name": "stdout",
     "output_type": "stream",
     "text": [
      "\n",
      "Número de embarazos\n",
      "------------------------------------------------\n",
      "Media    : 3.8450520833333335\n",
      "Moda     : [1]\n",
      "Desviacion : 3.3673836124089886\n",
      "\n",
      "Concentración de glucosa\n",
      "------------------------------------------------\n",
      "Media    : 120.89453125\n",
      "Es multimodal: \n",
      "Moda     : [100, 99]\n",
      "Desviacion : 31.95179590820272\n",
      "\n",
      "Presión arterial diastólica\n",
      "------------------------------------------------\n",
      "Media    : 69.10546875\n",
      "Moda     : [70]\n",
      "Desviacion : 19.343201628981696\n",
      "\n",
      "Espesor del pliegue cutáneo del tríceps\n",
      "------------------------------------------------\n",
      "Media    : 20.536458333333332\n",
      "Moda     : [0]\n",
      "Desviacion : 15.941828626496978\n",
      "\n",
      "Insulina sérica\n",
      "------------------------------------------------\n",
      "Media    : 79.79947916666667\n",
      "Moda     : [0]\n",
      "Desviacion : 115.1689492646728\n",
      "\n",
      "Índice de masa corporal\n",
      "------------------------------------------------\n",
      "Media    : 31.992578124999977\n",
      "Moda     : [32.0]\n",
      "Desviacion : 7.879025731540125\n",
      "\n",
      "Función del pedigrí de la diabetes\n",
      "------------------------------------------------\n",
      "Media    : 0.4718763020833327\n",
      "Es multimodal: \n",
      "Moda     : [0.254, 0.258]\n",
      "Desviacion : 0.331112816028629\n",
      "\n",
      "Edad\n",
      "------------------------------------------------\n",
      "Media    : 33.240885416666664\n",
      "Moda     : [22]\n",
      "Desviacion : 11.752572645994178\n",
      "\n",
      "Resultsdo Test\n",
      "------------------------------------------------\n",
      "Moda     : ['tested_negative']\n",
      "\n"
     ]
    }
   ],
   "source": [
    "numcolumnas=int(arrayDiab.shape[1])\n",
    "numfilas=int(arrayDiab.shape[0])\n",
    "print()\n",
    "#Imprimiendo\n",
    "for i in range(9):\n",
    "    print (names[i])\n",
    "    print (\"------------------------------------------------\")\n",
    "    if (i!=8):\n",
    "        media_p=obtmedia(arrayDiab,i+1,numfilas)\n",
    "        print (\"Media    :\",media_p)\n",
    "        moda_p=obtmoda(arrayDiab,i+1,numfilas)\n",
    "        if(moda_p.__len__()>=int(numfilas)/2):\n",
    "            print(\"No existe Moda\")\n",
    "        else:\n",
    "            if( moda_p.__len__()>1 ):\n",
    "                print(\"Es multimodal: \")\n",
    "            print (\"Moda     :\",moda_p)\n",
    "        print (\"Desviacion :\",obtmedesv(arrayDiab, media_p,i+1,numfilas))\n",
    "        print(\"\")\n",
    "    else:\n",
    "        moda_p=obtmoda(arrayDiab,i+1,numfilas)\n",
    "        if(moda_p.__len__()>=int(numfilas)/2):\n",
    "            print(\"No existe Moda\")\n",
    "        else:\n",
    "            if( moda_p.__len__()>1 ):\n",
    "                print(\"Es multimodal: \")\n",
    "            print (\"Moda     :\",moda_p)\n",
    "        print(\"\")"
   ]
  },
  {
   "cell_type": "raw",
   "metadata": {},
   "source": [
    "- Para las variables numéricas se obtiene la media, moda y desviación estandar\n",
    "Número de embarazos                  :  Media : 3 a 4 embarazos      Moda: 1 embarazo       Desviación : 3.37 \n",
    "Concentración de glucosa             :  Media : 120.89 mg/dl         Moda: 100 y 99 mg/dl   Desviacion : 31.95 mg/dl\n",
    "Presión arterial diastólica          :  Media : 69.11 mmHg           Moda: 70 mmHg          Desviacion : 19.34 mmHg\n",
    "Espesor del pliegue cutáneo          :  Media : 20.53 mm             Moda: 0 mm             Desviacion : 15.94 mm\n",
    "del tríceps                          \n",
    "Insulina sérica                      :  Media : 79.80 mu U/ml        Moda: 0 mu U/ml        Desviacion : 115.17 mu U/ml\n",
    "Índice de masa corporal              :  Media : 31.99 kg/m^2         Moda: 32 kg/m^2        Desviacion : 7.88 kg/m^2 \n",
    "Función del pedigrí de la diabetes   :  Media : 0.47 %               Moda: 0.254 y 0.258 %  Desviacion : 0.33 % \n",
    "Edad                                 :  Media : 33 años              Moda: 22 años          Desviacion : 11,75 años\n",
    "\n",
    "- Para las variables que tienen almacenadas variables que corresponden a categorias se obtiene la moda, que es el valor mas repetido.\n",
    "Resultado Test                       :  Moda  : tested_negative (Resultado Negativo)"
   ]
  },
  {
   "cell_type": "markdown",
   "metadata": {},
   "source": [
    "b) La media, la moda, la desviación estándar con el uso de numpy y pandas"
   ]
  },
  {
   "cell_type": "code",
   "execution_count": 465,
   "metadata": {},
   "outputs": [
    {
     "name": "stdout",
     "output_type": "stream",
     "text": [
      "Número de embarazos\n",
      "------------------------------------------------\n",
      "Media       : 3.8450520833333335\n",
      "Moda        : 1.0\n",
      "Desviacion : 3.3673836124089958\n",
      "\n",
      "Concentración de glucosa\n",
      "------------------------------------------------\n",
      "Media       : 120.89453125\n",
      "Moda        : 100.0\n",
      "Desviacion : 31.95179590820272\n",
      "\n",
      "Presión arterial diastólica\n",
      "------------------------------------------------\n",
      "Media       : 69.10546875\n",
      "Moda        : 70.0\n",
      "Desviacion : 19.343201628981696\n",
      "\n",
      "Espesor del pliegue cutáneo del tríceps\n",
      "------------------------------------------------\n",
      "Media       : 20.536458333333332\n",
      "Moda        : 0.0\n",
      "Desviacion : 15.941828626496939\n",
      "\n",
      "Insulina sérica\n",
      "------------------------------------------------\n",
      "Media       : 79.79947916666667\n",
      "Moda        : 0.0\n",
      "Desviacion : 115.16894926467262\n",
      "\n",
      "Índice de masa corporal\n",
      "------------------------------------------------\n",
      "Media       : 31.992578124999998\n",
      "Moda        : 32.0\n",
      "Desviacion : 7.87902573154013\n",
      "\n",
      "Función del pedigrí de la diabetes\n",
      "------------------------------------------------\n",
      "Media       : 0.47187630208333325\n",
      "Moda        : 0.254\n",
      "Desviacion : 0.3311128160286291\n",
      "\n",
      "Edad\n",
      "------------------------------------------------\n",
      "Media       : 33.240885416666664\n",
      "Moda        : 22.0\n",
      "Desviacion : 11.752572645994181\n",
      "\n",
      "Resultsdo Test\n",
      "------------------------------------------------\n",
      "\n",
      "Moda        : ['tested_negative']\n",
      "\n"
     ]
    }
   ],
   "source": [
    "for i in range(9):\n",
    "    print (names[i])\n",
    "    print (\"------------------------------------------------\")\n",
    "    if (i!=8):\n",
    "        columna_l=columna(arrayDiab,numfilas,i+1)\n",
    "        print(\"Media       :\",np.mean(columna_l))\n",
    "        print(\"Moda        :\",mode(columna_l))  \n",
    "        print(\"Desviacion :\",columna_l.std())\n",
    "        print()\n",
    "    else:\n",
    "        print(\"\")\n",
    "        moda_p=obtmoda(arrayDiab,i+1,numfilas)\n",
    "        if(moda_p.__len__()>=int(numfilas)/2):\n",
    "            print(\"No existe Moda\")\n",
    "        else:\n",
    "            if( moda_p.__len__()>1 ):\n",
    "                print(\"Es multimodal: \")\n",
    "            print (\"Moda        :\",moda_p)\n",
    "        print()\n"
   ]
  },
  {
   "cell_type": "markdown",
   "metadata": {},
   "source": [
    "c) Grafique los datos y explique su comportamiento (PYTHON)"
   ]
  },
  {
   "cell_type": "code",
   "execution_count": 466,
   "metadata": {},
   "outputs": [
    {
     "name": "stderr",
     "output_type": "stream",
     "text": [
      "<ipython-input-466-e1b3df0a94c2>:6: MatplotlibDeprecationWarning: Adding an axes using the same arguments as a previous axes currently reuses the earlier instance.  In a future version, a new instance will always be created and returned.  Meanwhile, this warning can be suppressed, and the future behavior ensured, by passing a unique label to each axes instance.\n",
      "  ax=plt.subplot()\n"
     ]
    },
    {
     "data": {
      "text/plain": [
       "<function matplotlib.pyplot.show(close=None, block=None)>"
      ]
     },
     "execution_count": 466,
     "metadata": {},
     "output_type": "execute_result"
    },
    {
     "data": {
      "image/png": "[encoded data removed]",
      "text/plain": [
       "<Figure size 432x288 with 1 Axes>"
      ]
     },
     "metadata": {
      "needs_background": "light"
     },
     "output_type": "display_data"
    }
   ],
   "source": [
    "plt.close(\"all\")\n",
    "valores_x=data[\"preg\"].unique()\n",
    "valores_y=data[\"preg\"].value_counts().tolist()\n",
    "plt.bar(valores_x,valores_y)\n",
    "plt.title(names[0])\n",
    "ax=plt.subplot()\n",
    "ax.set_xlabel(\"Embarazos\")\n",
    "ax.set_ylabel(\"Nro Pacientes\")\n",
    "plt.show"
   ]
  },
  {
   "cell_type": "raw",
   "metadata": {},
   "source": [
    "El gráfico muestra la cantidad de embarazos de las pacientes\n",
    "Se puede observar que la mayor cantidad se encuentra concentrado \n",
    "entre 0 y 10 enbarazos con una mayoria entre los 5 y 7 enbarazos"
   ]
  },
  {
   "cell_type": "code",
   "execution_count": 467,
   "metadata": {},
   "outputs": [
    {
     "name": "stderr",
     "output_type": "stream",
     "text": [
      "<ipython-input-467-21d1e442726b>:6: MatplotlibDeprecationWarning: Adding an axes using the same arguments as a previous axes currently reuses the earlier instance.  In a future version, a new instance will always be created and returned.  Meanwhile, this warning can be suppressed, and the future behavior ensured, by passing a unique label to each axes instance.\n",
      "  ax=plt.subplot()\n"
     ]
    },
    {
     "data": {
      "text/plain": [
       "<function matplotlib.pyplot.show(close=None, block=None)>"
      ]
     },
     "execution_count": 467,
     "metadata": {},
     "output_type": "execute_result"
    },
    {
     "data": {
      "image/png": "[encoded data removed]",
      "text/plain": [
       "<Figure size 432x288 with 1 Axes>"
      ]
     },
     "metadata": {
      "needs_background": "light"
     },
     "output_type": "display_data"
    }
   ],
   "source": [
    "plt.close(\"all\")\n",
    "valores_x=data[\"plas\"].unique()\n",
    "valores_y=data[\"plas\"].value_counts().tolist()\n",
    "plt.bar(valores_x,valores_y)\n",
    "plt.title(names[1])\n",
    "ax=plt.subplot()\n",
    "ax.set_xlabel(\"[mg/dl]\")\n",
    "ax.set_ylabel(\"Nro Pacientes\")\n",
    "plt.show"
   ]
  },
  {
   "cell_type": "raw",
   "metadata": {},
   "source": [
    "El gráfico muestra la concentración de glucosa en plasma a 2 horas en una prueba \n",
    "de tolerancia a la glucosa oral, medido en miligramos por decilitro (mg/dl)\n",
    "Se observa que la mayor concentracion de datos se encuentra entre 75 y 200 (mg/dl)"
   ]
  },
  {
   "cell_type": "code",
   "execution_count": 468,
   "metadata": {},
   "outputs": [
    {
     "name": "stderr",
     "output_type": "stream",
     "text": [
      "<ipython-input-468-abfb5e482c62>:6: MatplotlibDeprecationWarning: Adding an axes using the same arguments as a previous axes currently reuses the earlier instance.  In a future version, a new instance will always be created and returned.  Meanwhile, this warning can be suppressed, and the future behavior ensured, by passing a unique label to each axes instance.\n",
      "  ax=plt.subplot()\n"
     ]
    },
    {
     "data": {
      "text/plain": [
       "<function matplotlib.pyplot.show(close=None, block=None)>"
      ]
     },
     "execution_count": 468,
     "metadata": {},
     "output_type": "execute_result"
    },
    {
     "data": {
      "image/png": "[encoded data removed]",
      "text/plain": [
       "<Figure size 432x288 with 1 Axes>"
      ]
     },
     "metadata": {
      "needs_background": "light"
     },
     "output_type": "display_data"
    }
   ],
   "source": [
    "plt.close(\"all\")\n",
    "valores_x=data[\"pres\"].unique()\n",
    "valores_y=data[\"pres\"].value_counts().tolist()\n",
    "plt.bar(valores_x,valores_y)\n",
    "plt.title(names[2])\n",
    "ax=plt.subplot()\n",
    "ax.set_xlabel(\"(mmHg)\")\n",
    "ax.set_ylabel(\"Nro Pacientes\")\n",
    "plt.show"
   ]
  },
  {
   "cell_type": "raw",
   "metadata": {},
   "source": [
    "El gráfico muestra la presión arterial diastólica medida en milimetros de mercurio(mmHg)\n",
    "podemos obsrvar que la mayor concentracion esta entre 40 y 100 mmHg"
   ]
  },
  {
   "cell_type": "code",
   "execution_count": 469,
   "metadata": {},
   "outputs": [
    {
     "name": "stderr",
     "output_type": "stream",
     "text": [
      "<ipython-input-469-f7644a59dd3f>:6: MatplotlibDeprecationWarning: Adding an axes using the same arguments as a previous axes currently reuses the earlier instance.  In a future version, a new instance will always be created and returned.  Meanwhile, this warning can be suppressed, and the future behavior ensured, by passing a unique label to each axes instance.\n",
      "  ax=plt.subplot()\n"
     ]
    },
    {
     "data": {
      "text/plain": [
       "<function matplotlib.pyplot.show(close=None, block=None)>"
      ]
     },
     "execution_count": 469,
     "metadata": {},
     "output_type": "execute_result"
    },
    {
     "data": {
      "image/png": "[encoded data removed]",
      "text/plain": [
       "<Figure size 432x288 with 1 Axes>"
      ]
     },
     "metadata": {
      "needs_background": "light"
     },
     "output_type": "display_data"
    }
   ],
   "source": [
    "plt.close(\"all\")\n",
    "valores_x=data[\"skin\"].unique()\n",
    "valores_y=data[\"skin\"].value_counts().tolist()\n",
    "plt.bar(valores_x,valores_y)\n",
    "plt.title(names[3])\n",
    "ax=plt.subplot()\n",
    "ax.set_xlabel(\"(mm)\")\n",
    "ax.set_ylabel(\"Nro Pacientes\")\n",
    "plt.show"
   ]
  },
  {
   "cell_type": "raw",
   "metadata": {},
   "source": [
    "El gráfico muestra espesor del pliegue cutáneo del tríceps medido en milimetros(mm)\n",
    "Se puede observar que la mayor concentracion de espesor del  pliegue cutaneo se encuentra \n",
    "entre 10 y 60 milimetros con una mayoria entre 35 mm aproximadamente"
   ]
  },
  {
   "cell_type": "code",
   "execution_count": 470,
   "metadata": {},
   "outputs": [
    {
     "name": "stderr",
     "output_type": "stream",
     "text": [
      "<ipython-input-470-589f17283fc2>:6: MatplotlibDeprecationWarning: Adding an axes using the same arguments as a previous axes currently reuses the earlier instance.  In a future version, a new instance will always be created and returned.  Meanwhile, this warning can be suppressed, and the future behavior ensured, by passing a unique label to each axes instance.\n",
      "  ax=plt.subplot()\n"
     ]
    },
    {
     "data": {
      "text/plain": [
       "<function matplotlib.pyplot.show(close=None, block=None)>"
      ]
     },
     "execution_count": 470,
     "metadata": {},
     "output_type": "execute_result"
    },
    {
     "data": {
      "image/png": "[encoded data removed]",
      "text/plain": [
       "<Figure size 432x288 with 1 Axes>"
      ]
     },
     "metadata": {
      "needs_background": "light"
     },
     "output_type": "display_data"
    }
   ],
   "source": [
    "plt.close(\"all\")\n",
    "valores_x=data[\"insu\"].unique()\n",
    "valores_y=data[\"insu\"].value_counts().tolist()\n",
    "plt.bar(valores_x,valores_y)\n",
    "plt.title(names[4])\n",
    "ax=plt.subplot()\n",
    "ax.set_xlabel(\" (mu U / ml)\")\n",
    "ax.set_ylabel(\"Nro Pacientes\")\n",
    "plt.show"
   ]
  },
  {
   "cell_type": "raw",
   "metadata": {},
   "source": [
    "El gráfico muestra la insulina sérica de 2 horas medida en (mu U / ml)\n",
    "Se puede observar que los niveles de insulina seria son muy dispersos"
   ]
  },
  {
   "cell_type": "code",
   "execution_count": 471,
   "metadata": {},
   "outputs": [
    {
     "name": "stderr",
     "output_type": "stream",
     "text": [
      "<ipython-input-471-d68dc8624ca3>:6: MatplotlibDeprecationWarning: Adding an axes using the same arguments as a previous axes currently reuses the earlier instance.  In a future version, a new instance will always be created and returned.  Meanwhile, this warning can be suppressed, and the future behavior ensured, by passing a unique label to each axes instance.\n",
      "  ax=plt.subplot()\n"
     ]
    },
    {
     "data": {
      "text/plain": [
       "<function matplotlib.pyplot.show(close=None, block=None)>"
      ]
     },
     "execution_count": 471,
     "metadata": {},
     "output_type": "execute_result"
    },
    {
     "data": {
      "image/png": "[encoded data removed]",
      "text/plain": [
       "<Figure size 432x288 with 1 Axes>"
      ]
     },
     "metadata": {
      "needs_background": "light"
     },
     "output_type": "display_data"
    }
   ],
   "source": [
    "plt.close(\"all\")\n",
    "valores_x=data[\"mass\"].unique()\n",
    "valores_y=data[\"mass\"].value_counts().tolist()\n",
    "plt.bar(valores_x,valores_y)\n",
    "plt.title(names[5])\n",
    "ax=plt.subplot()\n",
    "ax.set_xlabel(\"kg / m^2\")\n",
    "ax.set_ylabel(\"Nro Pacientes\")\n",
    "plt.show"
   ]
  },
  {
   "cell_type": "raw",
   "metadata": {},
   "source": [
    "El gráfico muestra el índice de masa corporal (peso en kg / (altura en m) ^ 2)\n",
    "Se puede observar que la mayor concentracion del indice corporal esta entre 18 y 50"
   ]
  },
  {
   "cell_type": "code",
   "execution_count": 472,
   "metadata": {},
   "outputs": [
    {
     "name": "stderr",
     "output_type": "stream",
     "text": [
      "<ipython-input-472-82befeba3325>:6: MatplotlibDeprecationWarning: Adding an axes using the same arguments as a previous axes currently reuses the earlier instance.  In a future version, a new instance will always be created and returned.  Meanwhile, this warning can be suppressed, and the future behavior ensured, by passing a unique label to each axes instance.\n",
      "  ax=plt.subplot()\n"
     ]
    },
    {
     "data": {
      "text/plain": [
       "<function matplotlib.pyplot.show(close=None, block=None)>"
      ]
     },
     "execution_count": 472,
     "metadata": {},
     "output_type": "execute_result"
    },
    {
     "data": {
      "image/png": "[encoded data removed]",
      "text/plain": [
       "<Figure size 432x288 with 1 Axes>"
      ]
     },
     "metadata": {
      "needs_background": "light"
     },
     "output_type": "display_data"
    }
   ],
   "source": [
    "plt.close(\"all\")\n",
    "valores_x=data[\"pedi\"].unique()\n",
    "valores_y=data[\"pedi\"].value_counts().tolist()\n",
    "plt.bar(valores_x,valores_y)\n",
    "plt.title(names[6])\n",
    "ax=plt.subplot()\n",
    "ax.set_xlabel(\"Funcion de pedrigri %\")\n",
    "ax.set_ylabel(\"Nro Pacientes\")\n",
    "plt.show"
   ]
  },
  {
   "cell_type": "raw",
   "metadata": {},
   "source": [
    "El gráfico muestra la función del pedigrí de la diabetes (es decir si es heredado) medido en porcentaje\n",
    "Se puede observar que los porcentajes de la funcion variar entre 0  y casi 3 %"
   ]
  },
  {
   "cell_type": "code",
   "execution_count": 473,
   "metadata": {},
   "outputs": [
    {
     "name": "stderr",
     "output_type": "stream",
     "text": [
      "<ipython-input-473-d3735ccc53cc>:6: MatplotlibDeprecationWarning: Adding an axes using the same arguments as a previous axes currently reuses the earlier instance.  In a future version, a new instance will always be created and returned.  Meanwhile, this warning can be suppressed, and the future behavior ensured, by passing a unique label to each axes instance.\n",
      "  ax=plt.subplot()\n"
     ]
    },
    {
     "data": {
      "text/plain": [
       "<function matplotlib.pyplot.show(close=None, block=None)>"
      ]
     },
     "execution_count": 473,
     "metadata": {},
     "output_type": "execute_result"
    },
    {
     "data": {
      "image/png": "[encoded data removed]",
      "text/plain": [
       "<Figure size 432x288 with 1 Axes>"
      ]
     },
     "metadata": {
      "needs_background": "light"
     },
     "output_type": "display_data"
    }
   ],
   "source": [
    "plt.close(\"all\")\n",
    "valores_x=data[\"age\"].unique()\n",
    "valores_y=data[\"age\"].value_counts().tolist()\n",
    "plt.bar(valores_x,valores_y)\n",
    "plt.title(names[7])\n",
    "ax=plt.subplot()\n",
    "ax.set_xlabel(\"Años\")\n",
    "ax.set_ylabel(\"Nro Pacientes\")\n",
    "plt.show"
   ]
  },
  {
   "cell_type": "raw",
   "metadata": {},
   "source": [
    "El gráfico muestra la edad las pacientes\n",
    "Se puede observar que las edades de los pacientes varian entre 20 y un poco mas de 80 años\n",
    "y que la mayor concentracion de los pacientes esta entre los 20 a los 50 años."
   ]
  },
  {
   "cell_type": "code",
   "execution_count": 474,
   "metadata": {},
   "outputs": [
    {
     "name": "stderr",
     "output_type": "stream",
     "text": [
      "<ipython-input-474-d615d82420eb>:6: MatplotlibDeprecationWarning: Adding an axes using the same arguments as a previous axes currently reuses the earlier instance.  In a future version, a new instance will always be created and returned.  Meanwhile, this warning can be suppressed, and the future behavior ensured, by passing a unique label to each axes instance.\n",
      "  ax=plt.subplot()\n"
     ]
    },
    {
     "data": {
      "text/plain": [
       "<function matplotlib.pyplot.show(close=None, block=None)>"
      ]
     },
     "execution_count": 474,
     "metadata": {},
     "output_type": "execute_result"
    },
    {
     "data": {
      "image/png": "[encoded data removed]",
      "text/plain": [
       "<Figure size 432x288 with 1 Axes>"
      ]
     },
     "metadata": {
      "needs_background": "light"
     },
     "output_type": "display_data"
    }
   ],
   "source": [
    "plt.close(\"all\")\n",
    "valores_x=data[\"class\"].unique()\n",
    "valores_y=data[\"class\"].value_counts().tolist()\n",
    "plt.bar(valores_x,valores_y)\n",
    "plt.title(names[8])\n",
    "ax=plt.subplot()\n",
    "ax.set_xlabel(\"Resultados de Test\")\n",
    "ax.set_ylabel(\"Nro Pacientes\")\n",
    "plt.show"
   ]
  },
  {
   "cell_type": "raw",
   "metadata": {},
   "source": [
    "El gráfico muestra los resultados del test\n",
    "Tested_positive: Test Positivo\n",
    "Tested_negative: Test Negativo\n",
    "Se puede observar que en la mayoria de los pacientes el resultado del test dio positivo."
   ]
  }
 ],
 "metadata": {
  "kernelspec": {
   "display_name": "Python 3",
   "language": "python",
   "name": "python3"
  },
  "language_info": {
   "codemirror_mode": {
    "name": "ipython",
    "version": 3
   },
   "file_extension": ".py",
   "mimetype": "text/x-python",
   "name": "python",
   "nbconvert_exporter": "python",
   "pygments_lexer": "ipython3",
   "version": "3.8.5"
  }
 },
 "nbformat": 4,
 "nbformat_minor": 4
}
